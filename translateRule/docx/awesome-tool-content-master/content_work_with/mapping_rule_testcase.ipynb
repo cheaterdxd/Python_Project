{
 "cells": [
  {
   "cell_type": "code",
   "execution_count": 1,
   "id": "5b535786-e637-4ec6-a120-0698aaacacf9",
   "metadata": {},
   "outputs": [],
   "source": [
    "GITLAB = \"C:/Users/hieunc/vcs-mitre-att-ck-version-2\""
   ]
  },
  {
   "cell_type": "code",
   "execution_count": 3,
   "id": "d3a680bc-76f3-466f-bd45-1d3fa16a0061",
   "metadata": {},
   "outputs": [],
   "source": [
    "import json\n",
    "mapping = json.loads(open(\"Seatable/mapping28.json\").read())"
   ]
  },
  {
   "cell_type": "code",
   "execution_count": 4,
   "id": "7ae02452-ece9-4680-98fb-0ee5ba0370b9",
   "metadata": {},
   "outputs": [],
   "source": [
    "import os\n",
    "import yaml"
   ]
  },
  {
   "cell_type": "code",
   "execution_count": 24,
   "id": "26243e19-8908-4a9d-b06f-da0f38f85972",
   "metadata": {
    "scrolled": true
   },
   "outputs": [
    {
     "name": "stdout",
     "output_type": "stream",
     "text": [
      "None\n",
      "None\n",
      "None\n",
      "None\n",
      "None\n",
      "None\n",
      "None\n",
      "None\n",
      "None\n",
      "None\n",
      "None\n",
      "None\n",
      "None\n",
      "None\n",
      "None\n",
      "None\n",
      "None\n",
      "None\n",
      "None\n",
      "None\n",
      "None\n",
      "None\n",
      "None\n",
      "None\n",
      "None\n",
      "None\n",
      "None\n",
      "None\n",
      "None\n",
      "None\n",
      "None\n",
      "None\n",
      "None\n",
      "None\n",
      "None\n",
      "None\n",
      "None\n",
      "None\n",
      "None\n",
      "None\n",
      "None\n",
      "None\n",
      "None\n",
      "None\n",
      "None\n",
      "None\n",
      "None\n",
      "None\n",
      "None\n",
      "None\n",
      "None\n",
      "None\n",
      "None\n",
      "None\n",
      "None\n",
      "None\n",
      "None\n",
      "None\n",
      "None\n",
      "None\n",
      "None\n",
      "None\n",
      "None\n",
      "None\n",
      "None\n",
      "None\n"
     ]
    }
   ],
   "source": [
    "for item in mapping:\n",
    "    file_name = item[\"file_name\"]\n",
    "    # print(file_name)\n",
    "    try:\n",
    "        try:\n",
    "            file = f\"{GITLAB}/Rule Offline/SIEM/{file_name}.yml\"\n",
    "            rule = yaml.safe_load(open(file, encoding = \"utf-8\").read())\n",
    "        except Exception as ex:\n",
    "            print(ex)\n",
    "            file = f\"{GITLAB}/Rule Offline/SIEM/{file_name}.yaml\"\n",
    "            rule = yaml.safe_load(open(file, encoding = \"utf-8\").read())\n",
    "            \n",
    "            pass\n",
    "        if not \"true_positive_test\" in rule:\n",
    "            rule.update({\"true_positive_test\":[]})\n",
    "        rule[\"true_positive_test\"].append({\"logs\":{\n",
    "            \"log_file\":\"https://gitlab.viettelcyber.com/tunv47/vcs-mitre-att-ck-version-2/-/tree/master/json-test/SIEM/SIEM28.json\",\n",
    "            \"events\":item[\"event_id\"]\n",
    "            }})\n",
    "        print(yaml.dump(rule, open(file, \"w\", encoding = \"utf-8\"), allow_unicode=True, sort_keys=False))\n",
    "    except Exception as ex:\n",
    "        print(file)\n",
    "        print(ex)"
   ]
  },
  {
   "cell_type": "code",
   "execution_count": null,
   "id": "c5d92eac-c317-436e-b6e0-4f9e0f7049bf",
   "metadata": {},
   "outputs": [],
   "source": []
  }
 ],
 "metadata": {
  "kernelspec": {
   "display_name": "Python 3 (ipykernel)",
   "language": "python",
   "name": "python3"
  },
  "language_info": {
   "codemirror_mode": {
    "name": "ipython",
    "version": 3
   },
   "file_extension": ".py",
   "mimetype": "text/x-python",
   "name": "python",
   "nbconvert_exporter": "python",
   "pygments_lexer": "ipython3",
   "version": "3.11.4"
  }
 },
 "nbformat": 4,
 "nbformat_minor": 5
}
